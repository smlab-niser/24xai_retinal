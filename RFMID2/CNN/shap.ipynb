{
 "cells": [
  {
   "cell_type": "code",
   "execution_count": null,
   "metadata": {},
   "outputs": [],
   "source": [
    "import numpy as np\n",
    "import matplotlib.pyplot as plt\n",
    "import torch\n",
    "import sys\n",
    "from PIL import Image\n",
    "sys.path.append(\"..\")\n",
    "sys.path.append(\"../backbone\")\n",
    "from dataloader import create_dataloader\n",
    "import torchvision.transforms as transforms\n",
    "from transform import Transform\n",
    "from data import RetinaDataset\n",
    "import shap\n",
    "torch.cuda.empty_cache()\n",
    "\n",
    "# Set device to GPU if available, else use CPU\n",
    "device = torch.device(\"cuda:0\")\n",
    "model = torch.load('models/dn201.pth')\n",
    "model.to(device)\n",
    "# device = torch.device(\"cpu\")\n",
    "print(device)\n",
    "print(f\"Current device: {torch.cuda.get_device_name(torch.cuda.current_device())}\" if torch.cuda.is_available() else \"Current device: CPU\")"
   ]
  },
  {
   "cell_type": "code",
   "execution_count": null,
   "metadata": {},
   "outputs": [],
   "source": [
    "data_dir = '../../../data/GT-main'\n",
    "batch_size = 16\n",
    "image_size = 384\n",
    "num_labels = 21\n",
    "num_workers = 4\n",
    "phase= 'test'\n",
    "mean = [0.485, 0.456, 0.406]\n",
    "std = [0.229, 0.224, 0.225]\n",
    "test_dataloader = create_dataloader(data_dir=data_dir, batch_size=batch_size, num_workers=num_workers, size=image_size, phase=phase)"
   ]
  },
  {
   "cell_type": "code",
   "execution_count": null,
   "metadata": {},
   "outputs": [],
   "source": [
    "transform = Transform(size=image_size, phase=phase)\n",
    "dataset = RetinaDataset(data_dir=data_dir, split=phase, transform=None)\n",
    "image = dataset[0][0]\n",
    "plt.imshow(image)\n",
    "plt.axis('off')\n",
    "plt.show()"
   ]
  },
  {
   "cell_type": "code",
   "execution_count": null,
   "metadata": {},
   "outputs": [],
   "source": [
    "def predict(x):\n",
    "    tmp = torch.tensor(x).to(device)\n",
    "    return torch.sigmoid(model(tmp))"
   ]
  },
  {
   "cell_type": "code",
   "execution_count": null,
   "metadata": {},
   "outputs": [],
   "source": [
    "# Initialize Shapley Explainer\n",
    "for images, labels in test_dataloader: break\n",
    "print(\"Shape of images:\", images[0].shape)  \n",
    "\n",
    "masker = shap.maskers.Image(\"blur(64,64)\", shape=images[0].shape)\n",
    "explainer = shap.Explainer(predict, masker)\n",
    "\n",
    "print(\"Type of explainer:\", type(explainer))\n",
    "\n",
    "shap_values = explainer(images[-1].unsqueeze(0), max_evals=100, batch_size=50, outputs=shap.Explanation.argsort.flip[:10])"
   ]
  },
  {
   "cell_type": "code",
   "execution_count": null,
   "metadata": {},
   "outputs": [],
   "source": [
    "print(shap_values.data.shape, shap_values.values.shape)\n",
    "print(shap_values.values.transpose(0, 4, 2, 3, 1)[0])"
   ]
  },
  {
   "cell_type": "code",
   "execution_count": null,
   "metadata": {},
   "outputs": [],
   "source": [
    "# Define the inverse transformation function\n",
    "inv_transform = transforms.Compose([\n",
    "    # transforms.ToPILImage(),  # Convert tensor to PIL image\n",
    "    transforms.Resize((image_size, image_size)),  # Resize back to original size\n",
    "    # transforms.ToTensor(),  # Convert PIL image to tensor\n",
    "    # transforms.Lambda(lambda x: x.permute(0, 2, 3, 1)),\n",
    "    # transforms.Lambda(lambda x: x[:3, :, :]),  # Keep only the first 3 channels (RGB)\n",
    "    # transforms.Normalize(mean=(-1 * np.array(mean) / np.array(std)).tolist(),std=(1 / np.array(std)).tolist(),),\n",
    "])\n",
    "\n",
    "# Assuming shap_values contains your SHAP values\n",
    "shap_data = inv_transform(shap_values.data).cpu().numpy()[0][1]\n",
    "shap_val = [val for val in np.moveaxis(shap_values.values.transpose(0, 2, 3, 1, 4)[0], -1, 0)]"
   ]
  },
  {
   "cell_type": "code",
   "execution_count": null,
   "metadata": {},
   "outputs": [],
   "source": [
    "print(shap_data, shap_val)"
   ]
  },
  {
   "cell_type": "code",
   "execution_count": null,
   "metadata": {},
   "outputs": [],
   "source": [
    "shap.image_plot(\n",
    "    shap_values=shap_val,\n",
    "    pixel_values=shap_data,\n",
    "    labels=shap_values.output_names,\n",
    "    true_labels=[labels[0][:]],\n",
    ")"
   ]
  },
  {
   "cell_type": "code",
   "execution_count": null,
   "metadata": {},
   "outputs": [],
   "source": [
    "# # Convert Shapley values to numpy array\n",
    "# shap_numpy = [np.swapaxes(np.swapaxes(s, 1, -1), 1, 2) for s in shap_values]\n",
    "\n",
    "# # Plot heat map for each class\n",
    "# for class_idx in range(num_classes):\n",
    "#     plt.figure()\n",
    "#     plt.title('Shapley Heatmap for Class {}'.format(class_idx))\n",
    "#     plt.imshow(shap_numpy[class_idx][0], cmap='hot', interpolation='nearest')\n",
    "#     plt.axis('off')\n",
    "#     plt.show()"
   ]
  },
  {
   "cell_type": "code",
   "execution_count": null,
   "metadata": {},
   "outputs": [],
   "source": [
    "# image_files = [f for f in os.listdir(data_dir) if f.endswith('.jpg') or f.endswith('.png')]\n",
    "\n",
    "# # Define a simple dataset class to load images\n",
    "# class SimpleImageDataset(torch.utils.data.Dataset):\n",
    "#     def __init__(self, data_dir, image_files, transform=None):\n",
    "#         self.data_dir = data_dir\n",
    "#         self.image_files = image_files\n",
    "#         self.transform = transform\n",
    "\n",
    "#     def __len__(self):\n",
    "#         return len(self.image_files)\n",
    "\n",
    "#     def __getitem__(self, idx):\n",
    "#         img_name = os.path.join(self.data_dir, self.image_files[idx])\n",
    "#         image = Image.open(img_name).convert('RGB')\n",
    "#         if self.transform:\n",
    "#             image = self.transform(image)\n",
    "#         return image\n",
    "\n",
    "# # Create test dataset and dataloader\n",
    "# test_dataset = SimpleImageDataset(data_dir, image_files)\n",
    "# test_dataloader = torch.utils.data.DataLoader(test_dataset, batch_size=1, shuffle=False)"
   ]
  }
 ],
 "metadata": {
  "kernelspec": {
   "display_name": "venv",
   "language": "python",
   "name": "python3"
  },
  "language_info": {
   "codemirror_mode": {
    "name": "ipython",
    "version": 3
   },
   "file_extension": ".py",
   "mimetype": "text/x-python",
   "name": "python",
   "nbconvert_exporter": "python",
   "pygments_lexer": "ipython3",
   "version": "3.10.12"
  }
 },
 "nbformat": 4,
 "nbformat_minor": 2
}
